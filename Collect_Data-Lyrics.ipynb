{
 "cells": [
  {
   "cell_type": "code",
   "execution_count": 8,
   "id": "7c11edbe-abed-4eb0-86da-3f328315969a",
   "metadata": {},
   "outputs": [],
   "source": [
    "# Library import\n",
    "\n",
    "import json\n",
    "from pprint import pprint\n",
    "import os\n",
    "import pandas as pd\n",
    "from selenium import webdriver\n",
    "from selenium.webdriver.chrome.service import Service\n",
    "import time\n",
    "from selenium.webdriver.common.by import By\n",
    "from selenium.webdriver.chrome.options import Options"
   ]
  },
  {
   "cell_type": "code",
   "execution_count": 300,
   "id": "a9ef633e-58a7-4541-9507-54c6e332d247",
   "metadata": {},
   "outputs": [],
   "source": [
    "with open(r'result.json', 'r', encoding='utf-8') as f:\n",
    "    result = json.load(f)\n",
    "with open(r'full_data.json', 'r', encoding='utf-8') as f:\n",
    "    full_data = json.load(f)"
   ]
  },
  {
   "cell_type": "code",
   "execution_count": 226,
   "id": "07db4739-4022-4f94-8c53-e0e221b9e1e8",
   "metadata": {},
   "outputs": [],
   "source": [
    "# import json\n",
    "# from pprint import pprint\n",
    "\n",
    "# with open(r'recent.json', 'r', encoding='utf-8') as f:\n",
    "#     json_0 = json.load(f)\n",
    "\n",
    "# pprint(json_0)"
   ]
  },
  {
   "cell_type": "code",
   "execution_count": 310,
   "id": "8e5fcbb6-e564-43c3-8ab7-7075172af44d",
   "metadata": {},
   "outputs": [],
   "source": [
    "def re_col(js):\n",
    "    date = js['date'][:7]   # Insert date information for each song (olny using year-month)\n",
    "    \n",
    "    for item in js['data']:\n",
    "        item['date'] = date\n",
    "        for key in ['image', 'last_week_rank','peak_rank']:   # Delete some features\n",
    "            item.pop(key, None)\n",
    "            \n",
    "    js = js['data']   # Change the dictionary structure to the list>dictionary structure\n",
    "    return js"
   ]
  },
  {
   "cell_type": "code",
   "execution_count": 311,
   "id": "373cadf9-be3e-411e-b1c2-edd2b716b223",
   "metadata": {},
   "outputs": [],
   "source": [
    "# JSON files downloaded through the Billboard API (file divided by week)\n",
    "# Import json file name in folder\n",
    "import os\n",
    "folder = r\"\\HOT100_json\"\n",
    "f_names = os.listdir(folder)\n",
    "\n",
    "# print(f_names)"
   ]
  },
  {
   "cell_type": "code",
   "execution_count": 312,
   "id": "6e1924ee-dfb3-47d7-b16e-0feee1f05934",
   "metadata": {},
   "outputs": [],
   "source": [
    "# Gathering data from each divided file and integrating it into one\n",
    "full_data = []\n",
    "\n",
    "for f_name in f_names:\n",
    "    path = os.path.join(folder, f_name)\n",
    "    with open(path, 'r', encoding='utf-8') as f:\n",
    "        f_json = json.load(f)\n",
    "\n",
    "    add_data = re_col(f_json)\n",
    "    full_data.extend(add_data)"
   ]
  },
  {
   "cell_type": "code",
   "execution_count": 1,
   "id": "150b2104-e6e7-4c7a-b0bd-680bbcf1c122",
   "metadata": {},
   "outputs": [],
   "source": [
    "# print('Total number of data:', len(full_data))\n",
    "# full_data"
   ]
  },
  {
   "cell_type": "code",
   "execution_count": 314,
   "id": "c18d0458-23c6-4390-ad6d-5cbc914cca7f",
   "metadata": {},
   "outputs": [],
   "source": [
    "# Delete overlapping songs within the same month (because we will look up the data at least on a monthly basis)\n",
    "# Choose the one with the highest 'weeks_on_chart'\n",
    "import pandas as pd\n",
    "\n",
    "def remove_duplicates(data):\n",
    "    df = pd.DataFrame(data)\n",
    "    \n",
    "    df_sort = df.sort_values(by=['date','weeks_on_chart'], ascending=False)\n",
    "    df_drop = df_sort.drop_duplicates(subset=['date', 'name', 'artist'])\n",
    "    dic_list = df_drop.to_dict(orient='records')\n",
    "\n",
    "    ## After deduplication, check the number of songs per month (make sure the amount of data is sufficient)\n",
    "    # count_per_date = df_drop['date'].value_counts()\n",
    "    # print(count_per_date)\n",
    "    \n",
    "    return dic_list"
   ]
  },
  {
   "cell_type": "code",
   "execution_count": 3,
   "id": "d92bd5fe-616a-4799-a9d7-d5f3565f766b",
   "metadata": {},
   "outputs": [],
   "source": [
    "remove_dup_data = remove_duplicates(full_data)\n",
    "\n",
    "# print('Total number of data since deduplication:', len(remove_dup_data))\n",
    "# remove_dup_data"
   ]
  },
  {
   "cell_type": "code",
   "execution_count": 316,
   "id": "4ee072ab-3cb2-4ba2-9d70-774886428d32",
   "metadata": {},
   "outputs": [],
   "source": [
    "# Lyrics collection function\n",
    "from googlesearch import search\n",
    "import random\n",
    "\n",
    "def get_lyrics(dic_data):\n",
    "    \n",
    "    name = dic_data['name']\n",
    "    artist = dic_data['artist']\n",
    "    query = f'{artist} {name} lyrics genius'\n",
    "    \n",
    "    ## Url should be accurate, so if there is an abnormality in the title or singer name, url works x\n",
    "    ## Many url is not working due to special marking such as featuring\n",
    "    # search_url = f\"https://genius.com/{query.replace(' ', '-')}\"\n",
    "\n",
    "    # Google Search + Connect to Top Link\n",
    "    for url in search(query, num_results=1):\n",
    "        search_url = url\n",
    "        break\n",
    "        \n",
    "    driver.get(search_url)\n",
    "    time.sleep(random.uniform(2, 5))\n",
    "\n",
    "    path_0 = '//*[@id=\"lyrics-root\"]/div[1]'\n",
    "    path_4 = '//*[@id=\"lyrics-root\"]/div[5]'\n",
    "\n",
    "    lyrics_texts = []\n",
    "    \n",
    "    elem_0 = driver.find_element(By.XPATH, path_0)\n",
    "    elem_4 = driver.find_element(By.XPATH, path_4)\n",
    "    lyrics_texts = [elem_0.text, elem_4.text]\n",
    "\n",
    "    return '\\n'.join(lyrics_texts)"
   ]
  },
  {
   "cell_type": "code",
   "execution_count": 317,
   "id": "93a368a5-c1c0-4b07-8a83-6b2c2ef2ec0b",
   "metadata": {},
   "outputs": [
    {
     "data": {
      "text/plain": [
       "805"
      ]
     },
     "execution_count": 317,
     "metadata": {},
     "output_type": "execute_result"
    }
   ],
   "source": [
    "# It is recommended to reduce the number of crawls as much as possible\n",
    "# Deduplication in the whole (after the first batch of data will be filled with the rest of the duplicated data)\n",
    "unique_songs = {}\n",
    "\n",
    "for song in full_data:\n",
    "    key = (song['name'], song['artist'])\n",
    "    if key not in unique_songs:\n",
    "        unique_songs[key] = song  # Save the first song only\n",
    "\n",
    "result = list(unique_songs.values())\n",
    "len(result)"
   ]
  },
  {
   "cell_type": "code",
   "execution_count": 374,
   "id": "653acf3e-54a8-4bbc-a80d-9f17ad7f556e",
   "metadata": {},
   "outputs": [
    {
     "name": "stdout",
     "output_type": "stream",
     "text": [
      "Tu Name, Fuerza Regida Cannot find lyrics : 429 Client Error: Too Many Requests for url: https://www.google.com/sorry/index?continue=https://www.google.com/search%3Fq%3DFuerza%2BRegida%2BTu%2BName%2Blyrics%2Bgenius%26num%3D3%26hl%3Den%26start%3D0%26safe%3Dactive&hl=en&q=EgSNSPsiGJD24cIGIjBQK7hv--QIqcGmzVI6hczdhpw0cXi4Rd4bYJDL9yqFrHOkOeUHCr-tdR0x0ufHSa0yAnJSWgFD\n"
     ]
    }
   ],
   "source": [
    "from selenium import webdriver\n",
    "from selenium.webdriver.chrome.service import Service\n",
    "import time\n",
    "from selenium.webdriver.common.by import By\n",
    "from selenium.webdriver.chrome.options import Options\n",
    "\n",
    "# user-agent\n",
    "options = Options()\n",
    "options.add_argument(\"user-agent=Mozilla/5.0 (Windows NT 10.0; Win64; x64) \"\n",
    "                     \"AppleWebKit/537.36 (KHTML, like Gecko) \"\n",
    "                     \"Chrome/114.0.0.0 Safari/537.36\")\n",
    "\n",
    "service = Service(r'D:\\chromedriver-win64\\chromedriver.exe')\n",
    "driver = webdriver.Chrome(service=service, options=options)   \n",
    "\n",
    "for dic in result:\n",
    "    if dic.get('lyrics'):    #Skip if it has already collected lyrics\n",
    "        continue\n",
    "    else:\n",
    "        try:\n",
    "            dic['lyrics'] = get_lyrics(dic)\n",
    "        except Exception as e: \n",
    "            print(f\"{dic['name']}, {dic['artist']} Cannot find lyrics :\", e)\n",
    "            \n",
    "driver.quit()"
   ]
  },
  {
   "cell_type": "code",
   "execution_count": 366,
   "id": "b3450230-6d23-49ed-a424-626c9e98e0ef",
   "metadata": {},
   "outputs": [
    {
     "name": "stdout",
     "output_type": "stream",
     "text": [
      "{'name': 'Back Then Right Now', 'artist': 'Tyler Hubbard', 'rank': 86, 'weeks_on_chart': 11, 'date': '2024-06', 'lyrics': '4 Contributors\\nBack Then Right Now Lyrics\\n[Intro]\\nBack then, right now\\n\\n[Verse 1]\\nBack when that blacktop was just a gravel road\\nBack when that Walmart was just a fishin\\' hole\\nBack when my ol\\' guitar had some brand-new strings\\nYes, it did\\nBack when a work truck was just a stick shift\\nBack when you took a pic and didn\\'t have to post it\\nBack when a Baptist church was where we learned to sing\\nYeah, we did\\n\\n[Chorus]\\nI could use some back then, right now\\n\\'98 Chevy with the tailgate down\\nFM only with the gold up loud\\nBurnin\\' up the night, innocent and wild\\nI could use a little more wide-open\\nBack when all I wanted was the hand I was holdin\\'\\nLivin\\' in the moment with the good-time crowd\\nMakin\\' life count\\nDamn, I could use a little more\\nBack then, right now\\nBack then, right now\\n[Verse 2]\\nBack when a, \"How ya been?\" came through a phone call\\nBack when a pastime was watchin\\' baseball\\nYeah, back when politics, it wasn\\'t table talk\\nBack when you had a fight, you could just walk it off\\n\\n[Chorus]\\nI could use some back then right now\\n\\'98 Chevy with the tailgate down\\nFM only with the gold up loud\\nBurnin\\' up the night, innocent and wild\\nI could use a little more wide-open\\nBack when all I wanted was the hand I was holdin\\'\\nLivin\\' in the moment with the good-time crowd\\nMakin\\' life count\\nDamn, I could use a little more\\nBack then, right now\\nBack then, right now\\n\\n[Bridge]\\nBack then, it was simple, it was slow\\nWe didn\\'t worry \\'bout what we didn\\'t know\\n\\n[Chorus]\\nI could use some back then, right now\\n\\'98 Chevy with the tailgate down\\nFM only with the gold up loud\\nBurnin\\' up the night, innocent and wild\\nI could use a little more wide-open\\nBack when all I wanted was the hand I was holdin\\'\\nLivin\\' in the moment with the good-time crowd\\nMakin\\' life count\\nDamn, I could use a little more\\nBack then, right now'}\n"
     ]
    }
   ],
   "source": [
    "# Result checking\n",
    "print(result[85])"
   ]
  },
  {
   "cell_type": "code",
   "execution_count": 368,
   "id": "46ff354b-3769-44ae-b490-cd567e62217d",
   "metadata": {},
   "outputs": [],
   "source": [
    "# Save JSON file\n",
    "with open('result.json', 'w', encoding='utf-8') as f:\n",
    "    json.dump(result, f, ensure_ascii=False, indent=4)\n",
    "with open('full_data.json', 'w', encoding='utf-8') as f:\n",
    "    json.dump(full_data, f, ensure_ascii=False, indent=4)"
   ]
  },
  {
   "cell_type": "code",
   "execution_count": null,
   "id": "83a86b8d-fd90-44a5-8e5c-9f0302f12005",
   "metadata": {},
   "outputs": [],
   "source": []
  },
  {
   "cell_type": "code",
   "execution_count": null,
   "id": "9dc82253-3a34-489c-b3e7-4f1d4ce43e2f",
   "metadata": {},
   "outputs": [],
   "source": []
  },
  {
   "cell_type": "code",
   "execution_count": null,
   "id": "af066edc-1a4e-4693-95ac-923ecb119a6b",
   "metadata": {},
   "outputs": [],
   "source": []
  },
  {
   "cell_type": "code",
   "execution_count": null,
   "id": "b7d28af0-d628-4f3f-bbb1-73cdba978de9",
   "metadata": {},
   "outputs": [],
   "source": []
  }
 ],
 "metadata": {
  "kernelspec": {
   "display_name": "Python 3 (ipykernel)",
   "language": "python",
   "name": "python3"
  },
  "language_info": {
   "codemirror_mode": {
    "name": "ipython",
    "version": 3
   },
   "file_extension": ".py",
   "mimetype": "text/x-python",
   "name": "python",
   "nbconvert_exporter": "python",
   "pygments_lexer": "ipython3",
   "version": "3.11.7"
  }
 },
 "nbformat": 4,
 "nbformat_minor": 5
}
